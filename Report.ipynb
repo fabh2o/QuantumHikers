{
 "cells": [
  {
   "cell_type": "markdown",
   "id": "fb3957ee",
   "metadata": {},
   "source": [
    "# Quantum Hikers"
   ]
  },
  {
   "cell_type": "markdown",
   "id": "1f356989",
   "metadata": {},
   "source": [
    "Gathering from both sides of the rough Mont Blanc, a team of italian and french junior quantum scientists decided to merge their super-quantum powers to dominates the mountains... Here are our approaches to determine the best way through the thoughest journeys.\n",
    "\n",
    "Team members : Fabrice Monasterio, Emanuele Albertini, Andrea Basilio Rava, Jeanne Bourgeois"
   ]
  },
  {
   "cell_type": "markdown",
   "id": "53dac73f",
   "metadata": {},
   "source": [
    "## Software part"
   ]
  },
  {
   "cell_type": "markdown",
   "id": "5884bcdf",
   "metadata": {},
   "source": [
    "The goal of this part is to expand our skills on QAOA and AQO algorithms to tackle a Traveling Salesman Problem. The key point here is to efficiently encode our problem in Qibo variables and Hamiltonians..."
   ]
  },
  {
   "cell_type": "markdown",
   "id": "f1972631",
   "metadata": {},
   "source": [
    "### Getting in shape : a first tutorial challenge"
   ]
  },
  {
   "cell_type": "markdown",
   "id": "e2469fd2",
   "metadata": {},
   "source": [
    "We start our challenge by considering a weighted complete graph of N=3 nodes. We seak for an ordering of these 3 nodes that would describe the shortest path visiting once each of these nodes. \n",
    "\n",
    "#### Hamiltonian encoding of the problem\n",
    "\n",
    "To do so, we introduce the binary variables $x_{i,t}$, where $i\\in\\{0,1,2\\}$ scans the nodes of the graphs and $t\\in\\{0,1,2\\}$ the time steps of the path, such that $x_{i,t}=1$ if the path visits the node $i$ at time $t$, and $0$ otherwise.\n",
    "\n",
    "The length of the path is encoded in an Hamiltonian form as:\n",
    "$$H_{\\text{dist}}=\\sum_{i,j=0}^{N-1} w_{i,j} \\sum_{t=0}^{N-2} x_{i,t}x_{j,t+1}.$$\n",
    "\n",
    "We impose to our path to visit every node exactly once, which is statisfied by minimising the Hamiltonian term:\n",
    "$$H_{\\text{nodes}}=\\sum_{i=0}^{N-1}(1-\\sum_{t=0}^{N-1}x_{i,t})^2,$$\n",
    "and to be at each step at exactly one node, which is satisfied by minimising the Hamiltonian term:\n",
    "$$H_{\\text{steps}}=\\sum_{t=0}^{N-1}(1-\\sum_{i=0}^{N-1}x_{i,t})^2.$$\n",
    "\n",
    "We will thus carry on our protocols considering the following cost Hamiltonian :\n",
    "$$H_{\\text{cost}} = H_{\\text{dist}} + A * (H_{\\text{nodes}} + H_{\\text{steps}}),$$\n",
    "where $A$ is a penalty coefficient that we should set big enough so that the constraints are strictly respected, but not too bigh either as the optimal solution would be harder to find. Initially, we set $A=100$, which is 2 orders of magnitude bigger than the weight coefficients. Finally, we went for smaller values of $A$.\n",
    "\n",
    "To fit with the encoding of our quantum devices, we perform the following change of variables:\n",
    "$$x_{i,t} = \\frac{1-z_{i,t}}{2}$$\n",
    "so that we will work with $z_{i,t}$ in $\\{-1, 1\\}.\n"
   ]
  },
  {
   "cell_type": "markdown",
   "id": "5bed5a97",
   "metadata": {},
   "source": [
    "#### Carrying out the optimisation\n",
    "\n",
    "To explore the space of feasible solution, we use the following mixing matrix:\n",
    "$$H_{\\text{mixing}} = \\sum_{i,t=0}^{N} X_{i, t}$$\n",
    "and we start the annealing protocol in its ground state $\\text{ket}(+)^{\\otimes N}$."
   ]
  },
  {
   "cell_type": "markdown",
   "id": "327db013",
   "metadata": {},
   "source": [
    "#### Solution : scaling & Benchmarking\n",
    "\n",
    "Our solution requires $N^2$ qubits, where $N$ is the number of nodes of our graph."
   ]
  },
  {
   "cell_type": "markdown",
   "id": "c9f3b779",
   "metadata": {},
   "source": [
    "### Heading towards the summits : a real challenge"
   ]
  },
  {
   "cell_type": "markdown",
   "id": "9a952b25",
   "metadata": {},
   "source": [
    "Enthrilled by this new powerful formalism, we tackle more complex trails. We consider now an 5-nodes graph, whose starting and ending points are fixed. However, we are now cruelly missing qubits, we need to be smart..."
   ]
  },
  {
   "cell_type": "markdown",
   "id": "b631fc8d",
   "metadata": {},
   "source": [
    "#### Back to familiar problems\n",
    "\n",
    "We first realise that new problem of size N=5 nodes could be easily map to our previous problem, while reducing the number of nodes to 3!\n",
    "\n",
    "Considering the TSP on a N-node graph with fixed starting and ending point, we can transform our cost hamiltonian to simplify our problem to a normal TSP on a (N-2)-node graph. This consist in noting that the elements $x_{i,t}$ are all determined for $i \\in {0, N-1}$ and $t \\in {0, N-1}$, so that we can reduce the Hilbert space of our solutions to $i \\in \\{1, 2,..., N-2\\}$ and $t \\in \\{1, 2,..., N-2\\}$ (encoded in $(N-2)^2$ qubits) by adding the following terms in the cost hamiltonian:\n",
    "\n",
    "$$C_{\\text{ini}} = \\sum_{i=1}^{N-2} w_{1, i} x_{i, 1}, \\\\\n",
    "C_{\\text{fin}} = \\sum_{i=1}^{N-2} w_{i, N-1} x_{i, N-2}.$$\n",
    "\n",
    "The first term $C_{\\text{ini}}$ corresponds to the weight of the first taken edge, and the second term $C_{\\text{fin}}$ to the weight of the last taken edge.\n",
    "\n",
    "So far, our solution requires $(N-2)^2=9$ qubits."
   ]
  },
  {
   "cell_type": "markdown",
   "id": "ca736b50",
   "metadata": {},
   "source": [
    "#### Taking advantage of the redundancy in the conditions\n",
    "\n",
    "Limited to 6 qubits by our current quantum computers, our team is still looking for a slight but decisive improvement of our approach. We then realize that our encoding presented actually a redundancy, which we could use to reduce once more the number of required qubits...\n",
    "\n",
    "Disclaimer : in the following, n=N-2 is the number of nodes of the subgraph, obtained from our intial graph by removing the starting and ending points. We kept the notation $\\{w_{i,j}, \\text{ for } i,j\\in\\{0,...,n-1\\}\\}$ to describle the weights of this subgraph.\n",
    "\n",
    "Once considering a graph of n nodes with no specified starting and ending points, we can further reduce the number of required qubits by noting that once all but one nodes are selected, the last node of the tour is fully determined. This property comes from the condition\n",
    "$$ \\forall t, \\sum_{i=1}^{n-1}x_{i,t} = 1, $$\n",
    "which reduces the space of feasible solutions to a Hilbert space of size $n(n-1)$ (the $n$ factor coming from $t\\in\\{0, 1,..., n-1\\}$ and the $n-1$ factor from $i\\in\\{0, 1,... n-2\\}$).\n",
    "\n",
    "We thus consider the above constraint on steps fully satisfied and set \n",
    "$$\\forall t, x_{n-1, t} = 1 - \\sum_{i=0}^{n-2}x_{i,t}.$$\n",
    "Doing so, the main term of the cost Hamiltonian reads:\n",
    "\n",
    "$$C_0(x) = \\sum_{i,j=0}^{n-2}w_{i,j}\\sum_{t=0}^{n-1}x_{i,t}x_{j,t+1} + 2\\sum_{j=0}^{n-2}w_{n-1,j}\\sum_{t=0}^{n-1}(1-\\sum_{k=0}^{n-2}x_{k,t})x_{j,t+1},$$\n",
    "\n",
    "and the constraint on nodes:\n",
    "\n",
    "$$C_1(x) = \\sum_{i=0}^{n-2}(1-\\sum_{t=0}^{n-1}x_{i,t})^2 + (\\sum_{k=0}^{n-2}\\sum_{t=0}^{n-1}x_{i,t} - (n-1))^2.$$\n",
    "\n",
    "Zooming out and remembering that our n-nodes graph is part of a (n+2)-nodes graph with fixed starting and ending points, we also need to transform the costs from the initial and final edges:\n",
    "\n",
    "$$C_{\\text{ini}}(x) = \\sum_{i=0}^{n-2}(w_{-1, i} - w_{-1, n-1})x_{i,0} + w_{-1, n-1},$$\n",
    "\n",
    "$$C_{\\text{fin}}(x) = \\sum_{i=0}^{n-2}(w_{i, n} - w_{n-1, n})x_{i,n-1} + w_{n-1, n}.$$"
   ]
  },
  {
   "cell_type": "markdown",
   "id": "feac2565",
   "metadata": {},
   "source": [
    "#### Success of the mission ? \n",
    "\n",
    "In the interpretation of our output state, we\n",
    "\n",
    "Scaling :\n",
    "\n",
    "$(N-2)(N-3)$ required qubits, which is equal to 6 for $N=5$ !\n",
    "\n",
    "Results :\n",
    "\n",
    "We compared the results obtained with our algorithm with the route calculated in the classical way, and we noticed that our algorithm followed a different path.\n",
    "\n",
    "Benchmarking:\n",
    "\n",
    "The quantity used fot the benchmarking is the fidelity, one way to evalute is, given the known ground state encoding the solution $|\\psi_{\\text{GS}}\\rangle$ and the obtained solution $|\\psi_{\\text{sol}}\\rangle$, the fidelity is evaluated as\n",
    "\n",
    "$$ F = |\\langle \\psi_{\\text{GS}}|\\psi_{\\text{sol}}\\rangle|^2$$"
   ]
  },
  {
   "cell_type": "markdown",
   "id": "f9103812",
   "metadata": {},
   "source": [
    "#### Prospects for our next adventure\n",
    "\n",
    "Both excited by the prospectives that our new quantum solvers offer to our team, as well as frustated that they are bounded, in the middle-term future, to a limited number of qubits, we would like to find a way to arbitrarily reduce the number of required qubits to solve our problem. Finally, we thought of a hybrid approach, to suppport our quantum device with a classical computer, such that a part of the quantum complexity would be transformed in some classical complexity. Indeed, in the NISQ area we can't rely on arbitrarily big quantum computers: the number of avalaible qubits is in reality resticted to some upper value. Considering an arbitrarily big $N$-node graph, we would thus like to find a way to divide our problem into smaller problems that could be solved by our NISQ computer. To do so, we will carry out a divide-and-conquer hybrid approach.\n",
    "\n",
    "Considering a N-node graph $G$ with starting and ending points $0$ and $N-1$, we scan every node $i$ that is connected to $0$ and look for the best solution of the TSP on the subgraph $G'=G/\\{0\\}$ starting from node $i$ and ending at $N-1$. Every of these subproblems requires $(N'-2)(N'-3)$ qubits, with $N'=N-1$. Supposing that we have solved this subproblems and obtains the respective optimal costs $C_i$ and optimal paths $S_i = [i,..., N-1]$, we deduce the global optimal cost as being $\\max\\{C_i + w_{0,i} \\text{ for } i \\in\\{1,...,N-2\\}\\}$, reached for $i=i_0$. The optimal path is finally $[0]+S_{i_0}$."
   ]
  },
  {
   "cell_type": "markdown",
   "id": "7669bf98",
   "metadata": {},
   "source": [
    "## Hardware part"
   ]
  },
  {
   "cell_type": "markdown",
   "id": "56c9c290",
   "metadata": {},
   "source": [
    "The goal of this part is to understand the hardware protocol that performs the annealing procedure. We implemented an arbitrary instance of the Set Packing Problem with 4 qubits."
   ]
  },
  {
   "cell_type": "markdown",
   "id": "49c078af",
   "metadata": {},
   "source": [
    "### Problem statement and description \n",
    "\n",
    "Consider a set $U=\\{1,...6\\}$ and a set $\\mathcal{V} = \\{V_1, V_2, V_3, V_4\\}$ of its subsets, where $V_1=\\{1, 2, 5\\}$, $V_2=\\{4, 6\\}$, $V_3=\\{2, 4\\}$, $V_4=\\{1, 2, 3, 6\\}$. We are looking for the biggest subset $\\mathcal{R}$ of $\\mathcal{V}$ such that all elements of $\\mathcal{R}$ are disjoint.\n",
    "\n",
    "We define the binary variables $\\{x_i, \\text{ for } i\\in\\{1,...,4\\}\\}$ as $x_i = 1$ if $V_i \\in \\mathcal{R}$ and $0$ otherwise.\n",
    "The constraint of disjonction is encoded in the following Hamiltonian:\n",
    "$$H_A = A\\sum_{i,j=1}^{N}x_ix_j\\delta_{i,j}$$\n",
    "where $\\delta_{i,j}=1$ if $V_i$ and $V_j$ are non disjoint, $0$ otherwise:\n",
    "$$\\Delta = (\\delta_{i,j})=\\begin{pmatrix} 0 & 0 & 1 & 1 \\\\ 0 & 0 & 1 & 1 \\\\ 1 & 1 & 0 & 1 \\\\ 1 & 1 & 1 & 0 \\end{pmatrix},$$\n",
    "while the maximal size of $\\mathcal{R}$ is encoded in:\n",
    "$$H_B = -B\\sum_{i=1}^{N}x_i.$$\n",
    "We need $B<A$ to ensure that the disjonction constraint is well satisfied. We set e.g. $B=2$ and $A=4$.\n",
    "\n",
    "We then transform this problem into an Ising form, using the variables $\\{z_i\\}$ such that $x_i=\\frac{1-z_i}{2}$. In these variables, the Hamiltonians $H_A$ and $H_B$ read:\n",
    "$$H_A = - 2 \\sum_{i=1}^{N}(\\sum_{j=1}^{N}\\delta_{i,j})z_i + \\sum_{i,j=1}^{N}z_iz_j\\delta_{i,j},$$\n",
    "$$H_B = \\sum_{i=1}^{N}z_i,$$\n",
    "with a constant that does not impact our solution.\n",
    "\n",
    "Therefore, our problem comes down to the Ising Hamiltonian $H = H_A + H_B$ with Pauli coefficients:\n",
    "$$h_i^z = 1 - 2 \\sum_{j=1}^{N}\\delta_{i,j},$$\n",
    "$$J_{i,j} = \\delta_{i,j}.$$"
   ]
  },
  {
   "cell_type": "markdown",
   "id": "be4dbc42",
   "metadata": {},
   "source": [
    "### Circuit encoding\n",
    "\n",
    "The picture named \"layout\" in our repository shows a schematic description of the layout of the corresponding circuit. We make sure to space the coupling elements from one another."
   ]
  },
  {
   "cell_type": "markdown",
   "id": "7798bb94-465c-4838-979b-da6581a62522",
   "metadata": {},
   "source": [
    "### Annealing procedure\n",
    "\n",
    "We went for a linear annealing procedure, starting from a fully transversed field towards our target Hamiltonian."
   ]
  },
  {
   "cell_type": "code",
   "execution_count": null,
   "id": "9b4e1727-a3fe-4ea7-84b1-bbb4d8b91562",
   "metadata": {},
   "outputs": [],
   "source": []
  }
 ],
 "metadata": {
  "kernelspec": {
   "display_name": "Python 3 (ipykernel)",
   "language": "python",
   "name": "python3"
  },
  "language_info": {
   "codemirror_mode": {
    "name": "ipython",
    "version": 3
   },
   "file_extension": ".py",
   "mimetype": "text/x-python",
   "name": "python",
   "nbconvert_exporter": "python",
   "pygments_lexer": "ipython3",
   "version": "3.10.10"
  }
 },
 "nbformat": 4,
 "nbformat_minor": 5
}
